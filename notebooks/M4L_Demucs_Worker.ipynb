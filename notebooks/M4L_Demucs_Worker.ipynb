{
  "cells": [
    {
      "cell_type": "markdown",
      "metadata": {},
      "source": [
        "# M4L Demucs Worker (One Notebook)\n",
        "\n",
        "Run all cells once. Drops-only workflow is default. Advanced users can flip `zero_config` in Drive config.\n"
      ]
    },
    {
      "cell_type": "code",
      "execution_count": null,
      "metadata": {},
      "outputs": [],
      "source": [
        "# Cell 1: Mount Drive and show GPU\n",
        "from google.colab import drive\n",
        "import subprocess\n",
        "\n",
        "drive.mount('/content/drive', force_remount=True)\n",
        "print(subprocess.getoutput('nvidia-smi'))\n"
      ]
    },
    {
      "cell_type": "code",
      "execution_count": null,
      "metadata": {},
      "outputs": [],
      "source": [
        "# Cell 2: Install torch (cu121) first, then demucs\n",
        "!pip -q install --upgrade pip setuptools wheel\n",
        "!pip -q install torch torchvision torchaudio --index-url https://download.pytorch.org/whl/cu121\n",
        "!pip -q install demucs\n",
        "import demucs, torch\n",
        "print('demucs', demucs.__version__)\n",
        "print('torch', torch.__version__, 'cuda', torch.cuda.is_available())\n"
      ]
    },
    {
      "cell_type": "code",
      "execution_count": null,
      "metadata": {},
      "outputs": [],
      "source": [
        "# Cell 3: Config reader (zero_config default true)\n",
        "import json, pathlib\n",
        "ROOT = pathlib.Path('/content/drive/MyDrive/M4L-Demucs')\n",
        "ROOT.mkdir(parents=True, exist_ok=True)\n",
        "CONFIG = ROOT / 'config.json'\n",
        "if not CONFIG.exists():\n",
        "    CONFIG.write_text(json.dumps({\"zero_config\": True}))\n",
        "print('Config:', CONFIG.read_text())\n"
      ]
    },
    {
      "cell_type": "code",
      "execution_count": null,
      "metadata": {},
      "outputs": [],
      "source": [
        "# Cell 4: Watcher loop\n",
        "import urllib.request, subprocess, sys\n",
        "watcher_url = 'https://raw.githubusercontent.com/VSTOPIA/Doctor-Sample-Unit-DSU/main/colab_watcher.py'\n",
        "urllib.request.urlretrieve(watcher_url, ROOT / 'colab_watcher.py')\n",
        "print('Watcher fetched')\n",
        "!python /content/drive/MyDrive/M4L-Demucs/colab_watcher.py\n"
      ]
    },
    {
      "cell_type": "code",
      "execution_count": null,
      "metadata": {},
      "outputs": [],
      "source": [
        "# Optional: one-shot run for a specific file (debug)\n",
        "# Place a file at /content/drive/MyDrive/M4L-Demucs/jobs/audio/YourSong.wav\n",
        "# Then uncomment and run below:\n",
        "# import subprocess, sys, pathlib\n",
        "# IN_WAV = pathlib.Path('/content/drive/MyDrive/M4L-Demucs/jobs/audio/YourSong.wav')\n",
        "# OUT = pathlib.Path('/content/drive/MyDrive/M4L-Demucs/out/oneshot')\n",
        "# OUT.mkdir(parents=True, exist_ok=True)\n",
        "# cmd = [sys.executable,'-m','demucs.separate','-n','htdemucs_ft','-o',str(OUT),'-j','4','--shifts','4','--two-stems','vocals',str(IN_WAV)]\n",
        "# print(' '.join(cmd))\n",
        "# subprocess.run(cmd)\n"
      ]
    }
  ],
  "metadata": {
    "language_info": {
      "name": "python"
    }
  },
  "nbformat": 4,
  "nbformat_minor": 2
}

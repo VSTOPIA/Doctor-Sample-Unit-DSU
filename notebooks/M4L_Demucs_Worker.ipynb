{
  "cells": [
    {
      "cell_type": "markdown",
      "metadata": {},
      "source": [
        "# M4L Demucs Worker (One Notebook)\n",
        "\n",
        "Run all cells once. Drops-only workflow is default. Advanced users can flip `zero_config` in Drive config.\n"
      ]
    },
    {
      "cell_type": "code",
      "execution_count": null,
      "metadata": {},
      "outputs": [],
      "source": [
        "# Cell 1: Mount Drive and show GPU\n",
        "from google.colab import drive\n",
        "import subprocess\n",
        "\n",
        "drive.mount('/content/drive', force_remount=True)\n",
        "print(subprocess.getoutput('nvidia-smi'))\n"
      ]
    },
    {
      "cell_type": "code",
      "execution_count": null,
      "metadata": {},
      "outputs": [],
      "source": [
        "# Cell 2: Install (cached in Drive), prefer GPU wheels if available\n",
        "import os, sys, subprocess, pathlib, re\n",
        "SITE = pathlib.Path('/content/drive/MyDrive/M4L-Demucs/.venv/site-packages')\n",
        "CACHE = pathlib.Path('/content/drive/MyDrive/M4L-Demucs/pip-cache')\n",
        "SITE.mkdir(parents=True, exist_ok=True)\n",
        "CACHE.mkdir(parents=True, exist_ok=True)\n",
        "\n",
        "if str(SITE) not in sys.path:\n",
        "    sys.path.insert(0, str(SITE))\n",
        "\n",
        "def pip_install(pkgs, extra_args=None):\n",
        "    cmd = [sys.executable, \"-m\", \"pip\", \"install\", \"-q\", \"--no-warn-script-location\", \"--cache-dir\", str(CACHE), \"--target\", str(SITE)]\n",
        "    if extra_args:\n",
        "        cmd += extra_args\n",
        "    cmd += pkgs\n",
        "    print(\"Installing:\", \" \".join(pkgs))\n",
        "    res = subprocess.run(cmd, text=True)\n",
        "    if res.returncode != 0:\n",
        "        print(\"pip install failed for:\", pkgs)\n",
        "\n",
        "# Try importing first (uses cached site-packages in Drive)\n",
        "try:\n",
        "    import demucs, torch  # noqa\n",
        "    print(\"demucs already present:\", demucs.__version__)\n",
        "except Exception:\n",
        "    # Detect CUDA version from nvidia-smi\n",
        "    smi = subprocess.getoutput(\"nvidia-smi\")\n",
        "    m = re.search(r\"CUDA Version:\\s*([0-9.]+)\", smi)\n",
        "    idx = None\n",
        "    if m:\n",
        "        ver = m.group(1)\n",
        "        if ver.startswith(\"12.6\"):\n",
        "            idx = \"https://download.pytorch.org/whl/cu126\"\n",
        "        elif ver.startswith(\"12.1\"):\n",
        "            idx = \"https://download.pytorch.org/whl/cu121\"\n",
        "        elif ver.startswith(\"11.8\"):\n",
        "            idx = \"https://download.pytorch.org/whl/cu118\"\n",
        "    # Upgrade pip tooling\n",
        "    subprocess.run([sys.executable, \"-m\", \"pip\", \"install\", \"-q\", \"--upgrade\", \"pip\", \"setuptools\", \"wheel\"], text=True)\n",
        "    # Install torch first (GPU wheels if index detected)\n",
        "    if idx:\n",
        "        pip_install([\"torch\", \"torchvision\", \"torchaudio\"], [\"--index-url\", idx])\n",
        "    else:\n",
        "        pip_install([\"torch\", \"torchvision\", \"torchaudio\"])\n",
        "    # Install demucs and ipython dep\n",
        "    pip_install([\"demucs\"])  # unpinned\n",
        "    pip_install([\"jedi>=0.16\"])  # quiet fix for IPython warning\n",
        "\n",
        "import demucs, torch  # noqa\n",
        "print('demucs', demucs.__version__)\n",
        "print('torch', torch.__version__, 'cuda', torch.cuda.is_available())\n",
        "print('site-packages:', SITE)\n"
      ]
    },
    {
      "cell_type": "code",
      "execution_count": null,
      "metadata": {},
      "outputs": [],
      "source": [
        "# Cell 3: Config reader (zero_config default true)\n",
        "import json, pathlib\n",
        "ROOT = pathlib.Path('/content/drive/MyDrive/M4L-Demucs')\n",
        "ROOT.mkdir(parents=True, exist_ok=True)\n",
        "CONFIG = ROOT / 'config.json'\n",
        "if not CONFIG.exists():\n",
        "    CONFIG.write_text(json.dumps({\"zero_config\": True}))\n",
        "print('Config:', CONFIG.read_text())\n"
      ]
    },
    {
      "cell_type": "code",
      "execution_count": null,
      "metadata": {},
      "outputs": [],
      "source": [
        "# Cell 4: Watcher loop\n",
        "import urllib.request, subprocess, sys\n",
        "watcher_url = 'https://raw.githubusercontent.com/VSTOPIA/Doctor-Sample-Unit-DSU/main/colab_watcher.py'\n",
        "urllib.request.urlretrieve(watcher_url, ROOT / 'colab_watcher.py')\n",
        "print('Watcher fetched')\n",
        "!python /content/drive/MyDrive/M4L-Demucs/colab_watcher.py\n"
      ]
    },
    {
      "cell_type": "code",
      "execution_count": null,
      "metadata": {},
      "outputs": [],
      "source": [
        "# Optional: one-shot run for a specific file (debug)\n",
        "# Place a file at /content/drive/MyDrive/M4L-Demucs/jobs/audio/YourSong.wav\n",
        "# Then uncomment and run below:\n",
        "# import subprocess, sys, pathlib\n",
        "# IN_WAV = pathlib.Path('/content/drive/MyDrive/M4L-Demucs/jobs/audio/YourSong.wav')\n",
        "# OUT = pathlib.Path('/content/drive/MyDrive/M4L-Demucs/out/oneshot')\n",
        "# OUT.mkdir(parents=True, exist_ok=True)\n",
        "# cmd = [sys.executable,'-m','demucs.separate','-n','htdemucs_ft','-o',str(OUT),'-j','4','--shifts','4','--two-stems','vocals',str(IN_WAV)]\n",
        "# print(' '.join(cmd))\n",
        "# subprocess.run(cmd)\n"
      ]
    }
  ],
  "metadata": {
    "language_info": {
      "name": "python"
    }
  },
  "nbformat": 4,
  "nbformat_minor": 2
}

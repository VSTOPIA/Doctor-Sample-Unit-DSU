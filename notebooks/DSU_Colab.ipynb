{
  "cells": [
    {
      "cell_type": "markdown",
      "metadata": {},
      "source": [
        "# Doctor Sample Unit (DSU) — One‑Click Colab\n",
        "\n",
        "This notebook gives you a one‑click way to run Demucs on Google Colab GPU and exchange files via Google Drive.\n",
        "\n",
        "- Step 1: Mount Drive\n",
        "- Step 2: Install Demucs\n",
        "- Step 3: One‑shot test (2 stems: vocals + instrumental)\n",
        "- Step 4: Optional watcher that processes jobs dropped into Drive\n",
        "\n",
        "Drive folder used: `/content/drive/MyDrive/M4L-Demucs`\n"
      ]
    },
    {
      "cell_type": "code",
      "execution_count": null,
      "metadata": {},
      "outputs": [],
      "source": [
        "# Step 1: Mount Drive\n",
        "from google.colab import drive\n",
        "drive.mount('/content/drive')\n"
      ]
    },
    {
      "cell_type": "code",
      "execution_count": null,
      "metadata": {},
      "outputs": [],
      "source": [
        "# Step 2: Install Demucs\n",
        "!pip -q install demucs\n"
      ]
    },
    {
      "cell_type": "code",
      "execution_count": null,
      "metadata": {},
      "outputs": [],
      "source": [
        "# Step 3: One‑shot test (2 stems: vocals)\n",
        "import subprocess, sys, pathlib\n",
        "\n",
        "ROOT = pathlib.Path('/content/drive/MyDrive/M4L-Demucs')\n",
        "AUDIO = ROOT / 'jobs' / 'audio'\n",
        "OUT   = ROOT / 'out' / 'oneshot'\n",
        "AUDIO.mkdir(parents=True, exist_ok=True)\n",
        "OUT.mkdir(parents=True, exist_ok=True)\n",
        "\n",
        "IN_WAV = AUDIO / '1204273.wav'  # put your file here first\n",
        "\n",
        "cmd = [\n",
        "    sys.executable, '-m', 'demucs.separate',\n",
        "    '-n', 'htdemucs_ft',\n",
        "    '-o', str(OUT),\n",
        "    '-j', '4',\n",
        "    '--shifts', '4',\n",
        "    '--clip-mode', 'rescale',\n",
        "    '--two-stems', 'vocals',\n",
        "    str(IN_WAV)\n",
        "]\n",
        "print(' '.join(cmd))\n",
        "proc = subprocess.run(cmd, capture_output=True, text=True)\n",
        "print(proc.stdout)\n",
        "print(proc.stderr)\n"
      ]
    },
    {
      "cell_type": "code",
      "execution_count": null,
      "metadata": {},
      "outputs": [],
      "source": [
        "# Step 4: Optional watcher (process jobs dropped into Drive)\n",
        "!python /content/drive/MyDrive/M4L-Demucs/colab_watcher.py\n"
      ]
    }
  ],
  "metadata": {
    "language_info": {
      "name": "python"
    }
  },
  "nbformat": 4,
  "nbformat_minor": 2
}

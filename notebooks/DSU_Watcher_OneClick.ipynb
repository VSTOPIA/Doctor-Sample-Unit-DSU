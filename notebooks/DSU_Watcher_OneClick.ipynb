{
  "cells": [
    {
      "cell_type": "markdown",
      "metadata": {},
      "source": [
        "# DSU — One‑Click Watcher (Colab)\n",
        "\n",
        "Click Run once: this mounts Drive, installs Demucs, downloads the watcher, and starts it.\n",
        "\n",
        "Drive folder: `/content/drive/MyDrive/M4L-Demucs`\n"
      ]
    },
    {
      "cell_type": "code",
      "execution_count": null,
      "metadata": {},
      "outputs": [],
      "source": [
        "# One‑click setup and run\n",
        "from google.colab import drive\n",
        "import subprocess, sys, pathlib\n",
        "\n",
        "drive.mount('/content/drive', force_remount=True)\n",
        "\n",
        "# Install Demucs silently\n",
        "_ = subprocess.run([sys.executable, '-m', 'pip', 'install', '-q', 'demucs'])\n",
        "\n",
        "ROOT = pathlib.Path('/content/drive/MyDrive/M4L-Demucs')\n",
        "ROOT.mkdir(parents=True, exist_ok=True)\n",
        "\n",
        "# Fetch watcher from GitHub\n",
        "import urllib.request\n",
        "url = 'https://raw.githubusercontent.com/VSTOPIA/Doctor-Sample-Unit-DSU/main/colab_watcher.py'\n",
        "out_path = ROOT / 'colab_watcher.py'\n",
        "urllib.request.urlretrieve(url, out_path)\n",
        "print('Watcher saved to', out_path)\n",
        "\n",
        "# Start watcher (blocks and prints status)\n",
        "!python /content/drive/MyDrive/M4L-Demucs/colab_watcher.py\n"
      ]
    }
  ],
  "metadata": {
    "language_info": {
      "name": "python"
    }
  },
  "nbformat": 4,
  "nbformat_minor": 2
}
